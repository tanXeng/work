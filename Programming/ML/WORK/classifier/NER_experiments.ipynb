{
 "cells": [
  {
   "cell_type": "markdown",
   "metadata": {},
   "source": [
    "Testing out gliner-spaCy"
   ]
  },
  {
   "cell_type": "code",
   "execution_count": 1,
   "metadata": {},
   "outputs": [
    {
     "name": "stderr",
     "output_type": "stream",
     "text": [
      "c:\\Users\\tanxe\\AppData\\Local\\Programs\\Python\\Python310\\lib\\site-packages\\torchvision\\datapoints\\__init__.py:12: UserWarning: The torchvision.datapoints and torchvision.transforms.v2 namespaces are still Beta. While we do not expect major breaking changes, some APIs may still change according to user feedback. Please submit any feedback you may have in this issue: https://github.com/pytorch/vision/issues/6753, and you can also check out https://github.com/pytorch/vision/issues/7319 to learn more about the APIs that we suspect might involve future changes. You can silence this warning by calling torchvision.disable_beta_transforms_warning().\n",
      "  warnings.warn(_BETA_TRANSFORMS_WARNING)\n",
      "c:\\Users\\tanxe\\AppData\\Local\\Programs\\Python\\Python310\\lib\\site-packages\\torchvision\\transforms\\v2\\__init__.py:54: UserWarning: The torchvision.datapoints and torchvision.transforms.v2 namespaces are still Beta. While we do not expect major breaking changes, some APIs may still change according to user feedback. Please submit any feedback you may have in this issue: https://github.com/pytorch/vision/issues/6753, and you can also check out https://github.com/pytorch/vision/issues/7319 to learn more about the APIs that we suspect might involve future changes. You can silence this warning by calling torchvision.disable_beta_transforms_warning().\n",
      "  warnings.warn(_BETA_TRANSFORMS_WARNING)\n"
     ]
    }
   ],
   "source": [
    "import spacy\n",
    "from gliner_spacy.pipeline import GlinerSpacy"
   ]
  },
  {
   "cell_type": "code",
   "execution_count": 2,
   "metadata": {},
   "outputs": [],
   "source": [
    "# !python -m spacy download en_core_web_lg"
   ]
  },
  {
   "cell_type": "code",
   "execution_count": 3,
   "metadata": {},
   "outputs": [
    {
     "name": "stderr",
     "output_type": "stream",
     "text": [
      "C:\\Users\\tanxe\\AppData\\Local\\Temp\\ipykernel_13500\\450086650.py:15: SettingWithCopyWarning: \n",
      "A value is trying to be set on a copy of a slice from a DataFrame.\n",
      "Try using .loc[row_indexer,col_indexer] = value instead\n",
      "\n",
      "See the caveats in the documentation: https://pandas.pydata.org/pandas-docs/stable/user_guide/indexing.html#returning-a-view-versus-a-copy\n",
      "  balanced_df_24k['relevant'] = balanced_df_24k['category'].apply(lambda x: 1 if x == 'Stock' else 0)\n"
     ]
    },
    {
     "data": {
      "text/plain": [
       "relevant\n",
       "0    20757\n",
       "1     3503\n",
       "Name: count, dtype: int64"
      ]
     },
     "execution_count": 3,
     "metadata": {},
     "output_type": "execute_result"
    }
   ],
   "source": [
    "import pandas as pd\n",
    "\n",
    "# Specify the file path\n",
    "file_path = 'C:\\\\Users\\\\tanxe\\\\Programming\\\\ML\\\\WORK\\\\classifier\\\\data.csv'\n",
    "\n",
    "# Read the CSV file into a DataFrame\n",
    "df = pd.read_csv(file_path)\n",
    "df = df.drop(columns=['source_id', 'author', 'published_at', 'url_to_image', 'url' ])\n",
    "filtered_df = df\n",
    "filtered_df['relevant'] = filtered_df['category'].apply(lambda x: 1 if x == 'Stock' or x == 'Finance' else 0)\n",
    "df_cleaned = filtered_df.dropna(subset=['content'])\n",
    "balanced_df = df_cleaned\n",
    "\n",
    "balanced_df_24k = balanced_df[balanced_df['source_name'].isin([\"ETF Daily News\", \"The Times of India\"])]\n",
    "balanced_df_24k['relevant'] = balanced_df_24k['category'].apply(lambda x: 1 if x == 'Stock' else 0)\n",
    "balanced_df_24k = balanced_df_24k.dropna(subset=['content'])\n",
    "balanced_df_24k['relevant'].value_counts()"
   ]
  },
  {
   "cell_type": "code",
   "execution_count": 4,
   "metadata": {},
   "outputs": [],
   "source": [
    "text = balanced_df['full_content'][0]\n",
    "nlp = spacy.load('en_core_web_lg')"
   ]
  },
  {
   "cell_type": "code",
   "execution_count": 5,
   "metadata": {},
   "outputs": [
    {
     "name": "stdout",
     "output_type": "stream",
     "text": [
      "UN ORG\n",
      "Antonio Guterres PERSON\n",
      "Monday DATE\n",
      "Himalayan NORP\n",
      "Guterres PERSON\n",
      "Everest LOC\n",
      "Nepal GPE\n",
      "nearly a third CARDINAL\n",
      "just over three decades DATE\n",
      "Himalayas LOC\n",
      "Nepal GPE\n",
      "65 percent PERCENT\n",
      "the last decade DATE\n",
      "Guterres PERSON\n",
      "four-day DATE\n",
      "Nepal GPE\n",
      "Himalayan NORP\n",
      "Hindu NORP\n",
      "around 240 million CARDINAL\n",
      "1.65 billion CARDINAL\n",
      "South Asian NORP\n",
      "Southeast Asian NORP\n",
      "10 CARDINAL\n",
      "Ganges NORP\n",
      "Indus GPE\n",
      "Yellow GPE\n",
      "Mekong GPE\n",
      "Irrawaddy GPE\n",
      "billions CARDINAL\n",
      "today DATE\n",
      "Guterres PERSON\n",
      "Syangboche village GPE\n",
      "Everest LOC\n",
      "nearly 1.2 degrees Celsius QUANTITY\n",
      "the mid-1800s DATE\n",
      "1.5 degrees QUANTITY\n",
      "Guterres PERSON\n",
      "first ORDINAL\n",
      "Himalayan NORP\n",
      "Indus GPE\n",
      "Ganges ORG\n",
      "Brahmaputra ORG\n"
     ]
    }
   ],
   "source": [
    "doc = nlp(text)\n",
    "for ent in doc.ents:\n",
    "    print(ent, ent.label_)"
   ]
  },
  {
   "cell_type": "code",
   "execution_count": 6,
   "metadata": {},
   "outputs": [
    {
     "name": "stdout",
     "output_type": "stream",
     "text": [
      "True\n"
     ]
    }
   ],
   "source": [
    "import torch\n",
    "print(torch.cuda.is_available())  # This should return True if CUDA is available "
   ]
  },
  {
   "cell_type": "code",
   "execution_count": 7,
   "metadata": {},
   "outputs": [
    {
     "name": "stdout",
     "output_type": "stream",
     "text": [
      "1\n"
     ]
    }
   ],
   "source": [
    "print(torch.cuda.device_count())"
   ]
  },
  {
   "cell_type": "code",
   "execution_count": 8,
   "metadata": {},
   "outputs": [
    {
     "name": "stdout",
     "output_type": "stream",
     "text": [
      "2.0.1+cu117\n"
     ]
    }
   ],
   "source": [
    "import torch\n",
    "print(torch.__version__)\n"
   ]
  },
  {
   "cell_type": "code",
   "execution_count": null,
   "metadata": {},
   "outputs": [
    {
     "name": "stdout",
     "output_type": "stream",
     "text": [
      "Looking in indexes: https://download.pytorch.org/whl/cu117\n",
      "Requirement already satisfied: torch in c:\\users\\tanxe\\appdata\\local\\programs\\python\\python310\\lib\\site-packages (2.5.1)\n",
      "Requirement already satisfied: torchvision in c:\\users\\tanxe\\appdata\\local\\programs\\python\\python310\\lib\\site-packages (0.20.1)\n",
      "Collecting torchaudio\n",
      "  Downloading https://download.pytorch.org/whl/cu117/torchaudio-2.0.2%2Bcu117-cp310-cp310-win_amd64.whl (2.5 MB)\n",
      "     ---------------------------------------- 0.0/2.5 MB ? eta -:--:--\n",
      "     ---------------------------------------- 0.0/2.5 MB ? eta -:--:--\n",
      "     ---------------------------------------- 0.0/2.5 MB ? eta -:--:--\n",
      "     ---------------------------------------- 0.0/2.5 MB ? eta -:--:--\n",
      "     ---- ----------------------------------- 0.3/2.5 MB ? eta -:--:--\n",
      "     -------- ------------------------------- 0.5/2.5 MB 1.1 MB/s eta 0:00:02\n",
      "     ------------------------- -------------- 1.6/2.5 MB 2.8 MB/s eta 0:00:01\n",
      "     ---------------------------------------- 2.5/2.5 MB 3.1 MB/s eta 0:00:00\n",
      "Requirement already satisfied: filelock in c:\\users\\tanxe\\appdata\\local\\programs\\python\\python310\\lib\\site-packages (from torch) (3.16.1)\n",
      "Requirement already satisfied: typing-extensions>=4.8.0 in c:\\users\\tanxe\\appdata\\local\\programs\\python\\python310\\lib\\site-packages (from torch) (4.12.2)\n",
      "Requirement already satisfied: networkx in c:\\users\\tanxe\\appdata\\local\\programs\\python\\python310\\lib\\site-packages (from torch) (3.4.2)\n",
      "Requirement already satisfied: jinja2 in c:\\users\\tanxe\\appdata\\local\\programs\\python\\python310\\lib\\site-packages (from torch) (3.1.4)\n",
      "Requirement already satisfied: fsspec in c:\\users\\tanxe\\appdata\\local\\programs\\python\\python310\\lib\\site-packages (from torch) (2024.9.0)\n",
      "Requirement already satisfied: sympy==1.13.1 in c:\\users\\tanxe\\appdata\\local\\programs\\python\\python310\\lib\\site-packages (from torch) (1.13.1)\n",
      "Requirement already satisfied: mpmath<1.4,>=1.1.0 in c:\\users\\tanxe\\appdata\\local\\programs\\python\\python310\\lib\\site-packages (from sympy==1.13.1->torch) (1.3.0)\n",
      "Requirement already satisfied: numpy in c:\\users\\tanxe\\appdata\\local\\programs\\python\\python310\\lib\\site-packages (from torchvision) (1.26.4)\n",
      "Requirement already satisfied: pillow!=8.3.*,>=5.3.0 in c:\\users\\tanxe\\appdata\\local\\programs\\python\\python310\\lib\\site-packages (from torchvision) (11.0.0)\n",
      "INFO: pip is looking at multiple versions of torchaudio to determine which version is compatible with other requirements. This could take a while.\n",
      "  Downloading https://download.pytorch.org/whl/cu117/torchaudio-2.0.1%2Bcu117-cp310-cp310-win_amd64.whl (2.5 MB)\n",
      "     ---------------------------------------- 0.0/2.5 MB ? eta -:--:--\n",
      "     ---------------------------------------- 0.0/2.5 MB ? eta -:--:--\n",
      "     ---------------------------------------- 0.0/2.5 MB ? eta -:--:--\n",
      "     ---- ----------------------------------- 0.3/2.5 MB ? eta -:--:--\n",
      "     -------- ------------------------------- 0.5/2.5 MB 1.3 MB/s eta 0:00:02\n",
      "     ------------------------- -------------- 1.6/2.5 MB 3.1 MB/s eta 0:00:01\n",
      "     ---------------------------------------- 2.5/2.5 MB 3.3 MB/s eta 0:00:00\n",
      "  Downloading https://download.pytorch.org/whl/cu117/torchaudio-2.0.0%2Bcu117-cp310-cp310-win_amd64.whl (2.5 MB)\n",
      "     ---------------------------------------- 0.0/2.5 MB ? eta -:--:--\n",
      "     ---------------------------------------- 2.5/2.5 MB 70.8 MB/s eta 0:00:00\n",
      "  Downloading https://download.pytorch.org/whl/cu117/torchaudio-0.13.1%2Bcu117-cp310-cp310-win_amd64.whl (2.3 MB)\n",
      "     ---------------------------------------- 0.0/2.3 MB ? eta -:--:--\n",
      "     ---------------------------------------- 2.3/2.3 MB 43.0 MB/s eta 0:00:00\n",
      "  Downloading https://download.pytorch.org/whl/cu117/torchaudio-0.13.0%2Bcu117-cp310-cp310-win_amd64.whl (2.3 MB)\n",
      "     ---------------------------------------- 0.0/2.3 MB ? eta -:--:--\n",
      "     ---------------------------------------- 2.3/2.3 MB 126.2 MB/s eta 0:00:00\n",
      "Collecting torchvision\n",
      "  Downloading https://download.pytorch.org/whl/cu117/torchvision-0.15.2%2Bcu117-cp310-cp310-win_amd64.whl (4.9 MB)\n",
      "     ---------------------------------------- 0.0/4.9 MB ? eta -:--:--\n",
      "     ---------------------------------------- 4.9/4.9 MB 49.8 MB/s eta 0:00:00\n",
      "Requirement already satisfied: requests in c:\\users\\tanxe\\appdata\\local\\programs\\python\\python310\\lib\\site-packages (from torchvision) (2.32.3)\n",
      "Collecting torch\n",
      "  Downloading https://download.pytorch.org/whl/cu117/torch-2.0.1%2Bcu117-cp310-cp310-win_amd64.whl (2343.6 MB)\n",
      "     ---------------------------------------- 0.0/2.3 GB ? eta -:--:--\n",
      "     ---------------------------------------- 0.0/2.3 GB 36.1 MB/s eta 0:01:05\n",
      "     ---------------------------------------- 0.0/2.3 GB 49.1 MB/s eta 0:00:48\n",
      "      --------------------------------------- 0.0/2.3 GB 48.2 MB/s eta 0:00:48\n",
      "      --------------------------------------- 0.0/2.3 GB 43.2 MB/s eta 0:00:54\n",
      "      --------------------------------------- 0.0/2.3 GB 40.5 MB/s eta 0:00:57\n",
      "     - -------------------------------------- 0.1/2.3 GB 50.3 MB/s eta 0:00:46\n",
      "     - -------------------------------------- 0.1/2.3 GB 57.5 MB/s eta 0:00:40\n",
      "     - -------------------------------------- 0.1/2.3 GB 62.5 MB/s eta 0:00:36\n",
      "     -- ------------------------------------- 0.1/2.3 GB 63.6 MB/s eta 0:00:35\n",
      "     -- ------------------------------------- 0.1/2.3 GB 61.5 MB/s eta 0:00:36\n",
      "     -- ------------------------------------- 0.2/2.3 GB 65.0 MB/s eta 0:00:34\n",
      "     --- ------------------------------------ 0.2/2.3 GB 69.7 MB/s eta 0:00:32\n",
      "     --- ------------------------------------ 0.2/2.3 GB 72.9 MB/s eta 0:00:30\n",
      "     --- ------------------------------------ 0.2/2.3 GB 74.7 MB/s eta 0:00:29\n",
      "     ---- ----------------------------------- 0.2/2.3 GB 73.7 MB/s eta 0:00:29\n",
      "     ---- ----------------------------------- 0.3/2.3 GB 74.8 MB/s eta 0:00:28\n",
      "     ---- ----------------------------------- 0.3/2.3 GB 80.2 MB/s eta 0:00:26\n",
      "     ----- ---------------------------------- 0.3/2.3 GB 90.1 MB/s eta 0:00:23\n",
      "     ----- ---------------------------------- 0.3/2.3 GB 92.1 MB/s eta 0:00:22\n",
      "     ----- ---------------------------------- 0.3/2.3 GB 92.6 MB/s eta 0:00:22\n",
      "     ------ --------------------------------- 0.4/2.3 GB 92.6 MB/s eta 0:00:22\n",
      "     ------ --------------------------------- 0.4/2.3 GB 97.4 MB/s eta 0:00:21\n",
      "     ------- -------------------------------- 0.4/2.3 GB 101.0 MB/s eta 0:00:20\n",
      "     ------- -------------------------------- 0.4/2.3 GB 99.8 MB/s eta 0:00:20\n",
      "     ------- -------------------------------- 0.5/2.3 GB 98.6 MB/s eta 0:00:20\n",
      "     -------- ------------------------------- 0.5/2.3 GB 99.2 MB/s eta 0:00:19\n",
      "     -------- ------------------------------- 0.5/2.3 GB 101.0 MB/s eta 0:00:19\n",
      "     -------- ------------------------------- 0.5/2.3 GB 101.6 MB/s eta 0:00:18\n",
      "     --------- ------------------------------ 0.5/2.3 GB 101.6 MB/s eta 0:00:18\n",
      "     --------- ------------------------------ 0.6/2.3 GB 101.5 MB/s eta 0:00:18\n",
      "     ---------- ----------------------------- 0.6/2.3 GB 103.5 MB/s eta 0:00:17\n",
      "     ---------- ----------------------------- 0.6/2.3 GB 104.8 MB/s eta 0:00:17\n",
      "     ---------- ----------------------------- 0.6/2.3 GB 104.1 MB/s eta 0:00:17\n",
      "     ----------- ---------------------------- 0.7/2.3 GB 102.2 MB/s eta 0:00:17\n",
      "     ----------- ---------------------------- 0.7/2.3 GB 99.8 MB/s eta 0:00:17\n",
      "     ----------- ---------------------------- 0.7/2.3 GB 101.0 MB/s eta 0:00:17\n",
      "     ------------ --------------------------- 0.7/2.3 GB 101.5 MB/s eta 0:00:17\n",
      "     ------------ --------------------------- 0.7/2.3 GB 101.0 MB/s eta 0:00:16\n",
      "     ------------- -------------------------- 0.8/2.3 GB 104.1 MB/s eta 0:00:16\n",
      "     ------------- -------------------------- 0.8/2.3 GB 105.4 MB/s eta 0:00:15\n",
      "     ------------- -------------------------- 0.8/2.3 GB 104.8 MB/s eta 0:00:15\n",
      "     -------------- ------------------------- 0.8/2.3 GB 102.8 MB/s eta 0:00:15\n",
      "     -------------- ------------------------- 0.8/2.3 GB 97.5 MB/s eta 0:00:16\n",
      "     -------------- ------------------------- 0.8/2.3 GB 92.6 MB/s eta 0:00:17\n",
      "     -------------- ------------------------- 0.9/2.3 GB 90.1 MB/s eta 0:00:17\n",
      "     -------------- ------------------------- 0.9/2.3 GB 86.9 MB/s eta 0:00:17\n",
      "     --------------- ------------------------ 0.9/2.3 GB 84.6 MB/s eta 0:00:18\n",
      "     --------------- ------------------------ 0.9/2.3 GB 84.2 MB/s eta 0:00:18\n",
      "     --------------- ------------------------ 0.9/2.3 GB 84.2 MB/s eta 0:00:17\n",
      "     ---------------- ----------------------- 0.9/2.3 GB 82.6 MB/s eta 0:00:18\n",
      "     ---------------- ----------------------- 1.0/2.3 GB 81.4 MB/s eta 0:00:18\n",
      "     ---------------- ----------------------- 1.0/2.3 GB 79.1 MB/s eta 0:00:18\n",
      "     ---------------- ----------------------- 1.0/2.3 GB 76.9 MB/s eta 0:00:18\n",
      "     ---------------- ----------------------- 1.0/2.3 GB 74.2 MB/s eta 0:00:19\n",
      "     ----------------- ---------------------- 1.0/2.3 GB 72.6 MB/s eta 0:00:19\n",
      "     ----------------- ---------------------- 1.0/2.3 GB 71.3 MB/s eta 0:00:19\n",
      "     ----------------- ---------------------- 1.0/2.3 GB 68.7 MB/s eta 0:00:20\n",
      "     ----------------- ---------------------- 1.0/2.3 GB 67.3 MB/s eta 0:00:20\n",
      "     ------------------ --------------------- 1.1/2.3 GB 67.6 MB/s eta 0:00:19\n",
      "     ------------------ --------------------- 1.1/2.3 GB 68.4 MB/s eta 0:00:19\n",
      "     ------------------- -------------------- 1.1/2.3 GB 74.5 MB/s eta 0:00:17\n",
      "     ------------------- -------------------- 1.1/2.3 GB 79.4 MB/s eta 0:00:16\n",
      "     ------------------- -------------------- 1.1/2.3 GB 75.2 MB/s eta 0:00:16\n",
      "     ------------------- -------------------- 1.2/2.3 GB 75.5 MB/s eta 0:00:16\n",
      "     -------------------- ------------------- 1.2/2.3 GB 78.0 MB/s eta 0:00:15\n",
      "     -------------------- ------------------- 1.2/2.3 GB 78.7 MB/s eta 0:00:15\n",
      "     -------------------- ------------------- 1.2/2.3 GB 79.8 MB/s eta 0:00:14\n",
      "     --------------------- ------------------ 1.3/2.3 GB 86.0 MB/s eta 0:00:13\n",
      "     --------------------- ------------------ 1.3/2.3 GB 91.6 MB/s eta 0:00:12\n",
      "     ---------------------- ----------------- 1.3/2.3 GB 99.2 MB/s eta 0:00:11\n",
      "     ---------------------- ----------------- 1.3/2.3 GB 98.0 MB/s eta 0:00:11\n",
      "     ---------------------- ----------------- 1.3/2.3 GB 95.8 MB/s eta 0:00:11\n",
      "     ----------------------- ---------------- 1.4/2.3 GB 95.8 MB/s eta 0:00:11\n",
      "     ----------------------- ---------------- 1.4/2.3 GB 95.2 MB/s eta 0:00:11\n",
      "     ------------------------ --------------- 1.4/2.3 GB 103.5 MB/s eta 0:00:10\n",
      "     ------------------------ --------------- 1.4/2.3 GB 104.1 MB/s eta 0:00:09\n",
      "     ------------------------ --------------- 1.5/2.3 GB 105.4 MB/s eta 0:00:09\n",
      "     ------------------------- -------------- 1.5/2.3 GB 108.1 MB/s eta 0:00:08\n",
      "     ------------------------- -------------- 1.5/2.3 GB 108.8 MB/s eta 0:00:08\n",
      "     -------------------------- ------------- 1.5/2.3 GB 109.6 MB/s eta 0:00:08\n",
      "     -------------------------- ------------- 1.6/2.3 GB 108.8 MB/s eta 0:00:08\n",
      "     -------------------------- ------------- 1.6/2.3 GB 108.8 MB/s eta 0:00:08\n",
      "     --------------------------- ------------ 1.6/2.3 GB 113.2 MB/s eta 0:00:07\n",
      "     --------------------------- ------------ 1.6/2.3 GB 108.8 MB/s eta 0:00:07\n",
      "     --------------------------- ------------ 1.6/2.3 GB 106.1 MB/s eta 0:00:07\n",
      "     ---------------------------- ----------- 1.7/2.3 GB 106.1 MB/s eta 0:00:07\n",
      "     ---------------------------- ----------- 1.7/2.3 GB 105.4 MB/s eta 0:00:07\n",
      "     ----------------------------- ---------- 1.7/2.3 GB 105.4 MB/s eta 0:00:07\n",
      "     ----------------------------- ---------- 1.7/2.3 GB 105.4 MB/s eta 0:00:06\n",
      "     ----------------------------- ---------- 1.8/2.3 GB 106.1 MB/s eta 0:00:06\n",
      "     ------------------------------ --------- 1.8/2.3 GB 105.4 MB/s eta 0:00:06\n",
      "     ------------------------------ --------- 1.8/2.3 GB 105.4 MB/s eta 0:00:06\n",
      "     ------------------------------- -------- 1.8/2.3 GB 106.1 MB/s eta 0:00:05\n",
      "     ------------------------------- -------- 1.9/2.3 GB 106.8 MB/s eta 0:00:05\n",
      "     -------------------------------- ------- 1.9/2.3 GB 111.7 MB/s eta 0:00:05\n",
      "     -------------------------------- ------- 1.9/2.3 GB 114.8 MB/s eta 0:00:04\n",
      "     -------------------------------- ------- 1.9/2.3 GB 115.6 MB/s eta 0:00:04\n",
      "     --------------------------------- ------ 2.0/2.3 GB 116.4 MB/s eta 0:00:04\n",
      "     --------------------------------- ------ 2.0/2.3 GB 116.4 MB/s eta 0:00:04\n",
      "     ---------------------------------- ----- 2.0/2.3 GB 115.6 MB/s eta 0:00:03\n",
      "     ---------------------------------- ----- 2.0/2.3 GB 111.0 MB/s eta 0:00:03\n",
      "     ---------------------------------- ----- 2.0/2.3 GB 111.0 MB/s eta 0:00:03\n",
      "     ----------------------------------- ---- 2.1/2.3 GB 106.8 MB/s eta 0:00:03\n",
      "     ----------------------------------- ---- 2.1/2.3 GB 105.4 MB/s eta 0:00:03\n",
      "     ----------------------------------- ---- 2.1/2.3 GB 102.2 MB/s eta 0:00:03\n",
      "     ------------------------------------ --- 2.1/2.3 GB 99.8 MB/s eta 0:00:03\n",
      "     ------------------------------------ --- 2.1/2.3 GB 97.5 MB/s eta 0:00:03\n",
      "     ------------------------------------ --- 2.1/2.3 GB 95.8 MB/s eta 0:00:03\n",
      "     ------------------------------------ --- 2.2/2.3 GB 91.1 MB/s eta 0:00:03\n",
      "     ------------------------------------- -- 2.2/2.3 GB 88.7 MB/s eta 0:00:02\n",
      "     ------------------------------------- -- 2.2/2.3 GB 84.2 MB/s eta 0:00:02\n",
      "     ------------------------------------- -- 2.2/2.3 GB 81.8 MB/s eta 0:00:02\n",
      "     ------------------------------------- -- 2.2/2.3 GB 79.1 MB/s eta 0:00:02\n",
      "     ------------------------------------- -- 2.2/2.3 GB 78.3 MB/s eta 0:00:02\n",
      "     -------------------------------------- - 2.2/2.3 GB 78.3 MB/s eta 0:00:02\n",
      "     -------------------------------------- - 2.3/2.3 GB 79.8 MB/s eta 0:00:01\n",
      "     ---------------------------------------  2.3/2.3 GB 79.4 MB/s eta 0:00:01\n",
      "     ---------------------------------------  2.3/2.3 GB 79.0 MB/s eta 0:00:01\n",
      "     ---------------------------------------  2.3/2.3 GB 80.6 MB/s eta 0:00:01\n",
      "     ---------------------------------------  2.3/2.3 GB 82.2 MB/s eta 0:00:01\n",
      "     ---------------------------------------  2.3/2.3 GB 82.2 MB/s eta 0:00:01\n",
      "     ---------------------------------------  2.3/2.3 GB 82.2 MB/s eta 0:00:01\n",
      "     ---------------------------------------  2.3/2.3 GB 82.2 MB/s eta 0:00:01\n",
      "     ---------------------------------------  2.3/2.3 GB 82.2 MB/s eta 0:00:01\n",
      "     ---------------------------------------  2.3/2.3 GB 82.2 MB/s eta 0:00:01\n",
      "     ---------------------------------------  2.3/2.3 GB 82.2 MB/s eta 0:00:01\n",
      "     ---------------------------------------  2.3/2.3 GB 82.2 MB/s eta 0:00:01\n",
      "     ---------------------------------------  2.3/2.3 GB 82.2 MB/s eta 0:00:01\n",
      "     ---------------------------------------  2.3/2.3 GB 82.2 MB/s eta 0:00:01\n",
      "     ---------------------------------------  2.3/2.3 GB 82.2 MB/s eta 0:00:01\n",
      "     ---------------------------------------  2.3/2.3 GB 82.2 MB/s eta 0:00:01\n",
      "     ---------------------------------------  2.3/2.3 GB 82.2 MB/s eta 0:00:01\n",
      "     ---------------------------------------  2.3/2.3 GB 82.2 MB/s eta 0:00:01\n",
      "     ---------------------------------------  2.3/2.3 GB 82.2 MB/s eta 0:00:01\n",
      "     ---------------------------------------  2.3/2.3 GB 82.2 MB/s eta 0:00:01\n",
      "     ---------------------------------------  2.3/2.3 GB 82.2 MB/s eta 0:00:01\n",
      "     ---------------------------------------  2.3/2.3 GB 82.2 MB/s eta 0:00:01\n",
      "     ---------------------------------------  2.3/2.3 GB 82.2 MB/s eta 0:00:01\n",
      "     ---------------------------------------  2.3/2.3 GB 82.2 MB/s eta 0:00:01\n",
      "     ---------------------------------------  2.3/2.3 GB 82.2 MB/s eta 0:00:01\n",
      "     ---------------------------------------  2.3/2.3 GB 82.2 MB/s eta 0:00:01\n",
      "     ---------------------------------------  2.3/2.3 GB 82.2 MB/s eta 0:00:01\n",
      "     ---------------------------------------  2.3/2.3 GB 82.2 MB/s eta 0:00:01\n",
      "     ---------------------------------------  2.3/2.3 GB 82.2 MB/s eta 0:00:01\n",
      "     ---------------------------------------  2.3/2.3 GB 82.2 MB/s eta 0:00:01\n",
      "     ---------------------------------------  2.3/2.3 GB 82.2 MB/s eta 0:00:01\n",
      "     ---------------------------------------  2.3/2.3 GB 82.2 MB/s eta 0:00:01\n",
      "     ---------------------------------------  2.3/2.3 GB 82.2 MB/s eta 0:00:01\n",
      "     ---------------------------------------  2.3/2.3 GB 82.2 MB/s eta 0:00:01\n",
      "     ---------------------------------------  2.3/2.3 GB 82.2 MB/s eta 0:00:01\n",
      "     ---------------------------------------  2.3/2.3 GB 82.2 MB/s eta 0:00:01\n",
      "     ---------------------------------------- 2.3/2.3 GB 26.1 MB/s eta 0:00:00\n",
      "Requirement already satisfied: MarkupSafe>=2.0 in c:\\users\\tanxe\\appdata\\local\\programs\\python\\python310\\lib\\site-packages (from jinja2->torch) (3.0.2)\n",
      "Requirement already satisfied: charset-normalizer<4,>=2 in c:\\users\\tanxe\\appdata\\local\\programs\\python\\python310\\lib\\site-packages (from requests->torchvision) (3.4.0)\n",
      "Requirement already satisfied: idna<4,>=2.5 in c:\\users\\tanxe\\appdata\\local\\programs\\python\\python310\\lib\\site-packages (from requests->torchvision) (3.10)\n",
      "Requirement already satisfied: urllib3<3,>=1.21.1 in c:\\users\\tanxe\\appdata\\local\\programs\\python\\python310\\lib\\site-packages (from requests->torchvision) (2.2.3)\n",
      "Requirement already satisfied: certifi>=2017.4.17 in c:\\users\\tanxe\\appdata\\local\\programs\\python\\python310\\lib\\site-packages (from requests->torchvision) (2024.12.14)\n",
      "Installing collected packages: torch, torchvision, torchaudio\n",
      "  Attempting uninstall: torch\n",
      "    Found existing installation: torch 2.5.1\n",
      "    Uninstalling torch-2.5.1:\n",
      "      Successfully uninstalled torch-2.5.1\n",
      "  Attempting uninstall: torchvision\n",
      "    Found existing installation: torchvision 0.20.1\n",
      "    Uninstalling torchvision-0.20.1:\n",
      "      Successfully uninstalled torchvision-0.20.1\n",
      "Successfully installed torch-2.0.1+cu117 torchaudio-2.0.2+cu117 torchvision-0.15.2+cu117\n",
      "Note: you may need to restart the kernel to use updated packages.\n"
     ]
    },
    {
     "name": "stderr",
     "output_type": "stream",
     "text": [
      "  WARNING: The scripts convert-caffe2-to-onnx.exe, convert-onnx-to-caffe2.exe and torchrun.exe are installed in 'c:\\Users\\tanxe\\AppData\\Local\\Programs\\Python\\Python310\\Scripts' which is not on PATH.\n",
      "  Consider adding this directory to PATH or, if you prefer to suppress this warning, use --no-warn-script-location.\n",
      "  WARNING: Failed to remove contents in a temporary directory 'C:\\Users\\tanxe\\AppData\\Local\\Programs\\Python\\Python310\\Lib\\site-packages\\~orch'.\n",
      "  You can safely remove it manually.\n",
      "  WARNING: Failed to remove contents in a temporary directory 'C:\\Users\\tanxe\\AppData\\Local\\Programs\\Python\\Python310\\Lib\\site-packages\\~orchvision'.\n",
      "  You can safely remove it manually.\n",
      "\n",
      "[notice] A new release of pip is available: 24.3.1 -> 25.0.1\n",
      "[notice] To update, run: python.exe -m pip install --upgrade pip\n"
     ]
    }
   ],
   "source": [
    "# %pip install torch torchvision torchaudio --index-url https://download.pytorch.org/whl/cu117\n",
    "\n"
   ]
  },
  {
   "cell_type": "code",
   "execution_count": null,
   "metadata": {},
   "outputs": [],
   "source": []
  }
 ],
 "metadata": {
  "kernelspec": {
   "display_name": "Python 3",
   "language": "python",
   "name": "python3"
  },
  "language_info": {
   "codemirror_mode": {
    "name": "ipython",
    "version": 3
   },
   "file_extension": ".py",
   "mimetype": "text/x-python",
   "name": "python",
   "nbconvert_exporter": "python",
   "pygments_lexer": "ipython3",
   "version": "3.10.0"
  }
 },
 "nbformat": 4,
 "nbformat_minor": 2
}
