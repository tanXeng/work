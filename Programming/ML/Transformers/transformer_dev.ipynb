{
 "cells": [
  {
   "cell_type": "markdown",
   "id": "bc7797a0",
   "metadata": {},
   "source": [
    "# Transformer\n",
    "We will build an English to German translator model."
   ]
  },
  {
   "cell_type": "code",
   "execution_count": 1,
   "id": "f021aef4",
   "metadata": {},
   "outputs": [],
   "source": [
    "import torch\n",
    "import torch.nn as nn\n",
    "import math"
   ]
  },
  {
   "cell_type": "code",
   "execution_count": 2,
   "id": "191e6816",
   "metadata": {},
   "outputs": [
    {
     "name": "stdout",
     "output_type": "stream",
     "text": [
      "cuda\n"
     ]
    }
   ],
   "source": [
    "device = torch.device('cuda' if torch.cuda.is_available() else 'cpu')\n",
    "print(device)"
   ]
  },
  {
   "cell_type": "markdown",
   "id": "fa38aeb6",
   "metadata": {},
   "source": [
    "### Multi-head Attention "
   ]
  },
  {
   "cell_type": "code",
   "execution_count": 3,
   "id": "db974c09",
   "metadata": {},
   "outputs": [],
   "source": [
    "class MultiHeadAttention(nn.Module):\n",
    "    def __init__(self, d_model, num_heads, dropout=0.1):\n",
    "        super().__init__()\n",
    "        assert (d_model % num_heads == 0), 'the model dimension must be divisible by the number of heads'\n",
    "\n",
    "        self.d_model = d_model\n",
    "        self.num_heads = num_heads\n",
    "        self.d_k = d_model // num_heads\n",
    "\n",
    "        self.dropout = nn.Dropout(dropout)\n",
    "        self.W_q = nn.Linear(d_model, d_model) \n",
    "        self.W_k = nn.Linear(d_model, d_model)\n",
    "        self.W_v = nn.Linear(d_model, d_model)\n",
    "        self.W_o = nn.Linear(d_model, d_model)\n",
    "\n",
    "    def scaled_dot_product_attention(self, Q, K, V, mask=None):\n",
    "        attention_scores = (Q @ K.transpose(-2, -1)) / math.sqrt(self.d_k)\n",
    "        if mask != None:\n",
    "            attention_scores = attention_scores.masked_fill(mask == 0, float('inf'))    \n",
    "        attention_weights = torch.softmax(attention_scores, dim=-1)\n",
    "        attention_weights = self.dropout(attention_weights)\n",
    "        output = attention_weights @ V\n",
    "\n",
    "        return output\n",
    "\n",
    "    def split_heads(self, x):\n",
    "        batch_size, seq_len, d_model = x.shape\n",
    "        return x.view(batch_size, seq_len, self.num_heads, self.d_k).transpose(1, 2) \n",
    "\n",
    "    def combine_heads(self, x):\n",
    "        batch_size, _, seq_len, _ = x.shape\n",
    "        return x.transpose(1, 2).contiguous().view(batch_size, seq_len, self.d_model) \n",
    "\n",
    "    def forward(self, Q, K, V, mask=None):\n",
    "        Q = self.W_q(Q)\n",
    "        K = self.W_k(K)\n",
    "        V = self.W_v(V)\n",
    "\n",
    "        Q = self.split_heads(Q)\n",
    "        K = self.split_heads(K)\n",
    "        V = self.split_heads(V)\n",
    "\n",
    "        head_outputs = self.scaled_dot_product_attention(Q, K, V, mask=mask)\n",
    "        concatenated_heads = self.combine_heads(head_outputs)\n",
    "        output = self.W_o(concatenated_heads)\n",
    "        output = self.dropout(output)\n",
    "\n",
    "        return output\n"
   ]
  },
  {
   "cell_type": "markdown",
   "id": "aaa0204b",
   "metadata": {},
   "source": [
    "### Position-wise Feed-Forward Networks"
   ]
  },
  {
   "cell_type": "code",
   "execution_count": 4,
   "id": "a0a33318",
   "metadata": {},
   "outputs": [],
   "source": [
    "class FeedForward(nn.Module):\n",
    "    def __init__(self, d_model, d_ff=None, dropout=0.1):\n",
    "        super().__init__()\n",
    "        self.d_model = d_model\n",
    "        \n",
    "        # GELU tends to perform better but is more computationally expensive than ReLU\n",
    "        self.gelu = nn.GELU()\n",
    "        # self.relu = nn.ReLU()\n",
    "        self.layer_norm = nn.LayerNorm(d_model)\n",
    "        self.dropout = nn.Dropout(dropout)\n",
    "        self.W1 = nn.Linear(d_model, d_ff, bias=True) \n",
    "        self.W2 = nn.Linear(d_ff, d_model, bias=True) \n",
    "\n",
    "    def forward(self, x):\n",
    "        x_res = x\n",
    "        x = self.layer_norm(x)\n",
    "        x = self.W1(x)\n",
    "        x = self.gelu(x)\n",
    "        x = self.dropout(x)\n",
    "        x = self.W2(x)\n",
    "        x = self.dropout(x)\n",
    "        \n",
    "        return x + x_res"
   ]
  },
  {
   "cell_type": "markdown",
   "id": "ac1b3e5b",
   "metadata": {},
   "source": [
    "## Attention blocks\n",
    "The full attention block consists of LayerNorm, followed by Multi-Headed Attention layer, followed by residual connections."
   ]
  },
  {
   "cell_type": "markdown",
   "id": "c5b777b0",
   "metadata": {},
   "source": [
    "### Self-Attention block"
   ]
  },
  {
   "cell_type": "code",
   "execution_count": 5,
   "id": "37398d6b",
   "metadata": {},
   "outputs": [],
   "source": [
    "class SelfAttentionBlock(nn.Module):\n",
    "    def __init__(self, d_model, num_heads, dropout=None):\n",
    "        super().__init__()\n",
    "        self.d_model = d_model\n",
    "        self.num_heads = num_heads\n",
    "        self.layer_norm = nn.LayerNorm(d_model)\n",
    "        self.multi_head_attention_layer =  MultiHeadAttention(d_model, num_heads, dropout=dropout)\n",
    "\n",
    "    def forward(self, x, mask=None):\n",
    "        x_res = x\n",
    "        x = self.layer_norm(x)\n",
    "        x = self.multi_head_attention_layer(x, x, x, mask)\n",
    "\n",
    "        return x + x_res"
   ]
  },
  {
   "cell_type": "markdown",
   "id": "5e26968e",
   "metadata": {},
   "source": [
    "### Cross-Attention block"
   ]
  },
  {
   "cell_type": "code",
   "execution_count": 6,
   "id": "8d3f079b",
   "metadata": {},
   "outputs": [],
   "source": [
    "class CrossAttentionBlock(nn.Module):\n",
    "    def __init__(self, d_model, num_heads, dropout=None):\n",
    "        super().__init__()\n",
    "        self.d_model = d_model\n",
    "        self.num_heads = num_heads\n",
    "        self.layer_norm = nn.LayerNorm(d_model)\n",
    "        self.multi_head_attention_layer =  MultiHeadAttention(d_model, num_heads, dropout=dropout)\n",
    "\n",
    "    def forward(self, Q, K, V, mask=None):\n",
    "        x_res = V\n",
    "        Q = self.layer_norm(Q)\n",
    "        K = self.layer_norm(K)\n",
    "        V = self.layer_norm(V)\n",
    "        x = self.multi_head_attention_layer(Q, K, V, mask=mask)\n",
    "\n",
    "        return x + x_res\n"
   ]
  },
  {
   "cell_type": "markdown",
   "id": "eb6766a1",
   "metadata": {},
   "source": [
    "## Decoder Layer and Encoder Layer"
   ]
  },
  {
   "cell_type": "code",
   "execution_count": 7,
   "id": "2adda8aa",
   "metadata": {},
   "outputs": [],
   "source": [
    "class DecoderLayer(nn.Module):\n",
    "    def __init__(self):\n",
    "        super().__init__()\n",
    "        self.W_q = nn.Linear(512, 512)\n",
    "        self.W_k = nn.Linear(512, 512)\n",
    "        self.W_v = nn.Linear(512, 512)\n",
    "        self.self_attention_block = SelfAttentionBlock(512, 8, dropout=0.1)\n",
    "        self.cross_attention_block = CrossAttentionBlock(512, 8, dropout=0.1)\n",
    "        self.feed_forward = FeedForward(512, d_ff=4 * 512, dropout=0.1)\n",
    "\n",
    "    def forward(self, x, encoder_output, mask):\n",
    "        x = self.self_attention_block(x, mask=mask)\n",
    "        Q = self.W_q(x)\n",
    "        K = self.W_k(encoder_output)\n",
    "        V = self.W_v(x)\n",
    "        x = self.cross_attention_block(Q, K, V)\n",
    "        x = self.feed_forward(x)\n",
    "\n",
    "        return x\n",
    "\n",
    "\n",
    "class EncoderLayer(nn.Module):\n",
    "    def __init__(self):\n",
    "        super().__init__()\n",
    "        self.self_attention_block = SelfAttentionBlock(512, 8, dropout=0.1)\n",
    "        self.feed_forward = FeedForward(512, d_ff=4 * 512, dropout=0.1)\n",
    "\n",
    "    def forward(self, x):\n",
    "        x = self.self_attention_block(x)\n",
    "        x = self.feed_forward(x)\n",
    "\n",
    "        return x"
   ]
  },
  {
   "cell_type": "markdown",
   "id": "8558da0a",
   "metadata": {},
   "source": [
    "### Positional"
   ]
  },
  {
   "cell_type": "code",
   "execution_count": null,
   "id": "a80f532c",
   "metadata": {},
   "outputs": [],
   "source": [
    "class PositionalEncoding(nn.Module):\n",
    "    def __init__(self, d_model, max_seq_len)\n",
    "    super().__init__()\n",
    "    self.d_model = d_model\n",
    "    self.max_seq_len = max_seq_len\n",
    "\n",
    "   "
   ]
  },
  {
   "cell_type": "markdown",
   "id": "a32a392e",
   "metadata": {},
   "source": [
    "## Full Model"
   ]
  },
  {
   "cell_type": "code",
   "execution_count": 8,
   "id": "2c76b087",
   "metadata": {},
   "outputs": [],
   "source": [
    "from datasets import load_dataset\n",
    "\n",
    "train_dataset = load_dataset('iwslt2017', 'iwslt2017-en-de', trust_remote_code=True, split='train')\n",
    "val_dataset = load_dataset('iwslt2017', 'iwslt2017-en-de', trust_remote_code=True, split='validation')\n",
    "test_dataset = load_dataset('iwslt2017', 'iwslt2017-en-de', trust_remote_code=True, split='test')"
   ]
  },
  {
   "cell_type": "code",
   "execution_count": 9,
   "id": "54f395ed",
   "metadata": {},
   "outputs": [
    {
     "name": "stdout",
     "output_type": "stream",
     "text": [
      "Train dataset: Dataset({\n",
      "    features: ['translation'],\n",
      "    num_rows: 206112\n",
      "})\n",
      "Validation dataset: Dataset({\n",
      "    features: ['translation'],\n",
      "    num_rows: 888\n",
      "})\n",
      "Test dataset: Dataset({\n",
      "    features: ['translation'],\n",
      "    num_rows: 8079\n",
      "})\n"
     ]
    }
   ],
   "source": [
    "print(f\"Train dataset: {train_dataset}\")\n",
    "print(f\"Validation dataset: {val_dataset}\")\n",
    "print(f\"Test dataset: {test_dataset}\")\n"
   ]
  },
  {
   "cell_type": "code",
   "execution_count": null,
   "id": "c69db4f9",
   "metadata": {},
   "outputs": [],
   "source": []
  },
  {
   "cell_type": "code",
   "execution_count": null,
   "id": "d0fb9a05",
   "metadata": {},
   "outputs": [],
   "source": []
  },
  {
   "cell_type": "code",
   "execution_count": 10,
   "id": "c40f6407",
   "metadata": {},
   "outputs": [],
   "source": [
    "class Translator(nn.Module):\n",
    "    def __init__(self):\n",
    "        super().__init__()\n",
    "         "
   ]
  }
 ],
 "metadata": {
  "kernelspec": {
   "display_name": "AI",
   "language": "python",
   "name": "python3"
  },
  "language_info": {
   "codemirror_mode": {
    "name": "ipython",
    "version": 3
   },
   "file_extension": ".py",
   "mimetype": "text/x-python",
   "name": "python",
   "nbconvert_exporter": "python",
   "pygments_lexer": "ipython3",
   "version": "3.10.17"
  }
 },
 "nbformat": 4,
 "nbformat_minor": 5
}
